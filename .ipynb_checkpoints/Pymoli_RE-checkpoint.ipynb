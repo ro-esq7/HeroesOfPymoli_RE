{
 "cells": [
  {
   "cell_type": "code",
   "execution_count": null,
   "metadata": {},
   "outputs": [],
   "source": [
    "import pandas as pd"
   ]
  },
  {
   "cell_type": "code",
   "execution_count": null,
   "metadata": {
    "scrolled": true
   },
   "outputs": [],
   "source": [
    "file = \"Resources/purchase_data.csv\"\n",
    "pymoli_df = pd.read_csv(file)\n",
    "display(pymoli_df.head())"
   ]
  },
  {
   "cell_type": "code",
   "execution_count": null,
   "metadata": {},
   "outputs": [],
   "source": [
    "#Player Count\n",
    "player_count = len(pymoli_df[\"SN\"].value_counts())\n",
    "\n",
    "total_players = pd.DataFrame({\"Total Players\": [player_count]})\n",
    "display(total_players)"
   ]
  },
  {
   "cell_type": "code",
   "execution_count": null,
   "metadata": {},
   "outputs": [],
   "source": [
    "pymoli_df.columns"
   ]
  },
  {
   "cell_type": "code",
   "execution_count": null,
   "metadata": {},
   "outputs": [],
   "source": [
    "#Purchasing Analysis (Totals)\n",
    "purchase_analysis = {\n",
    "    \"Number of Unique Items\": [len((pymoli_df[\"Item ID\"]).unique())], \n",
    "    \"Average Price\": [pymoli_df[\"Price\"].mean()],\n",
    "    \"Number of Purchases\": [(pymoli_df[\"Purchase ID\"]).count()], \n",
    "    \"Total Revenue\": [(pymoli_df[\"Price\"]).sum()]\n",
    "}\n",
    "\n",
    "total_revenue = pd.DataFrame(purchase_analysis, columns=[\n",
    "    \"Number of Unique Items\", \"Average Price\", \"Number of Purchases\", \"Total Revenue\"])\n",
    "total_revenue\n",
    "\n",
    "total_revenue['Average Price'] = total_revenue['Average Price'].map(\"${:.2f}\".format)\n",
    "total_revenue['Total Revenue'] = total_revenue['Total Revenue'].map(\"${:,.2f}\".format)\n",
    "display(total_revenue.head())"
   ]
  },
  {
   "cell_type": "code",
   "execution_count": null,
   "metadata": {},
   "outputs": [],
   "source": [
    "#Gender Demographics\n",
    "gender_demo = pymoli_df.groupby(\"Gender\")\n",
    "\n",
    "gender_count = gender_demo.nunique()[\"SN\"]\n",
    "gender_per = gender_count / player_count * 100\n",
    "\n",
    "display(gender_df = pd.DataFrame({\"Total Count\": gender_count,\n",
    "                          \"Percentage of Players\": gender_per})\n",
    "\n",
    "gender_df[\"Percentage of Players\"] = gender_df[\"Percentage of Players\"].map(\"{:.2f}\".format)\n",
    "gender_df.sort_values([\"Total Count\"], ascending = False))"
   ]
  },
  {
   "cell_type": "code",
   "execution_count": null,
   "metadata": {
    "scrolled": true
   },
   "outputs": [],
   "source": [
    "#Purchasing Analysis (by gender)\n",
    "pur_count = gender_demo[\"Purchase ID\"].count()\n",
    "avg_price = gender_demo[\"Price\"].mean()\n",
    "avg_total = gender_demo[\"Price\"].sum()\n",
    "avg_pur = avg_total/gender_count\n",
    "\n",
    "gen_analysis = pd.DataFrame({\"Purchase Count\": pur_count, \n",
    "                             \"Average Purchase Price\": avg_price, \n",
    "                             \"Total Purchase Value\": avg_total, \n",
    "                             \"Avg Purchase Total per Person\": avg_pur})\n",
    "\n",
    "gen_analysis[\"Average Purchase Price\"] = gen_analysis[\"Average Purchase Price\"].map(\"${:,.2f}\".format)\n",
    "gen_analysis[\"Total Purchase Value\"] = gen_analysis[\"Total Purchase Value\"].map(\"${:,.2f}\".format)\n",
    "gen_analysis[\"Avg Purchase Total per Person\"] = gen_analysis[\"Avg Purchase Total per Person\"].map(\"${:,.2f}\".format)\n",
    "display(gen_analysis.head())"
   ]
  },
  {
   "cell_type": "code",
   "execution_count": null,
   "metadata": {},
   "outputs": [],
   "source": [
    "#Age Demographics\n",
    "bins = [0, 9, 14, 19, 24, 29, 34, 39, 50]\n",
    "group_names = [\"<10\", \"10-14\", \"15-19\", \"20-24\", \"25-29\", \"30-34\", \"35-39\", \"40+\"]\n",
    "\n",
    "pymoli_df[\"Age\"] = pd.cut(pymoli_df[\"Age\"], bins, labels=group_names)\n",
    "\n",
    "age_demo = pymoli_df.groupby(\"Age\")\n",
    "age_total = age_demo[\"SN\"].nunique()\n",
    "age_per = age_total/player_count * 100\n",
    "\n",
    "age_df = pd.DataFrame({\"Total Count\": age_total,\n",
    "                      \"Percentage of Players\": age_per})\n",
    "\n",
    "age_df[\"Percentage of Players\"] = age_df[\"Percentage of Players\"].map(\"{:.2f}\".format)\n",
    "display(age_df)"
   ]
  },
  {
   "cell_type": "code",
   "execution_count": null,
   "metadata": {},
   "outputs": [],
   "source": [
    "#Purchasing Analysis (by age)\n",
    "age_count = age_demo[\"Purchase ID\"].count()\n",
    "age_price = age_demo[\"Price\"].mean()\n",
    "age_total_pur = age_demo[\"Price\"].sum()\n",
    "age_pur = age_total_pur/age_total\n",
    "\n",
    "age_analysis = pd.DataFrame({\"Purchase Count\": age_count, \n",
    "                             \"Average Purchase Price\": age_price, \n",
    "                             \"Total Purchase Value\": age_total_pur, \n",
    "                             \"Avg Purchase Total per Person\": age_pur})\n",
    "\n",
    "age_analysis[\"Average Purchase Price\"] = age_analysis[\"Average Purchase Price\"].map(\"${:,.2f}\".format)\n",
    "age_analysis[\"Total Purchase Value\"] = age_analysis[\"Total Purchase Value\"].map(\"${:,.2f}\".format)\n",
    "age_analysis[\"Avg Purchase Total per Person\"] = age_analysis[\"Avg Purchase Total per Person\"].map(\"${:,.2f}\".format)\n",
    "display(age_analysis)"
   ]
  },
  {
   "cell_type": "code",
   "execution_count": null,
   "metadata": {},
   "outputs": [],
   "source": [
    "#Top Spenders\n",
    "top_spender = pymoli_df.groupby(\"SN\")\n",
    "spender_count = top_spender[\"Purchase ID\"].count()\n",
    "spender_avg_pur = top_spender[\"Price\"].mean()\n",
    "spender_total = top_spender[\"Price\"].sum()\n",
    "\n",
    "top_df = pd.DataFrame({\"Purchase Count\": spender_count,\n",
    "                      \"Average Purchase Price\": spender_avg_pur,\n",
    "                      \"Total Purchase Value\": spender_total})\n",
    "\n",
    "top_df[\"Average Purchase Price\"] = top_df[\"Average Purchase Price\"].map(\"${:,.2f}\".format)\n",
    "top_df[\"Total Purchase Value\"] = top_df[\"Total Purchase Value\"].map(\"${:,.2f}\".format)\n",
    "top_df\n",
    "\n",
    "spender_analysis = top_df.sort_values(by=[\"Purchase Count\", \"Average Purchase Price\", \"Total Purchase Value\"], ascending=False)\n",
    "display(spender_analysis.head())"
   ]
  },
  {
   "cell_type": "code",
   "execution_count": null,
   "metadata": {},
   "outputs": [],
   "source": [
    "#Most Popular Items\n",
    "\n",
    "#Retrieve the Item ID, Item Name, and Item Price columns\n",
    "items = pymoli_df[[\"Item ID\", \"Item Name\", \"Price\"]]\n",
    "\n",
    "#Group by Item ID and Item Name\n",
    "popular_items = pymoli_df.groupby([\"Item ID\", \"Item Name\"])\n",
    "\n",
    "item_count = popular_items[\"Price\"].count()\n",
    "item_tvalue = popular_items[\"Price\"].sum()\n",
    "item_price = item_tvalue/item_count\n",
    "\n",
    "most_popular = pd.DataFrame({\"Purchase Count\": item_count,\n",
    "                            \"Item Price\": item_price,\n",
    "                            \"Total Purchase Value\": item_tvalue})\n",
    "\n",
    "most_popular[\"Item Price\"] = most_popular[\"Item Price\"].map(\"${:,.2f}\".format)\n",
    "most_popular[\"Total Purchase Value\"] = most_popular[\"Total Purchase Value\"].map(\"${:,.2f}\".format)\n",
    "most_popular\n",
    "\n",
    "item_analysis = most_popular.sort_values(by=[\"Purchase Count\"], ascending=False)\n",
    "display(item_analysis.head())"
   ]
  },
  {
   "cell_type": "code",
   "execution_count": null,
   "metadata": {},
   "outputs": [],
   "source": [
    "#Most Profitable Items\n",
    "item_analysis = most_popular.sort_values(by=[\"Purchase Count\", \"Item Price\", \"Total Purchase Value\"], ascending=False)\n",
    "display(item_analysis.head())"
   ]
  },
  {
   "cell_type": "code",
   "execution_count": null,
   "metadata": {},
   "outputs": [],
   "source": [
    "#Sources:\n",
    "    #Percentage of unique values syntax (https://stackoverflow.com/questions/50558458/pandas-percentage-by-value-in-a-column)\n",
    "    #Data Wrangling with Pandas Cheat Sheet (http://pandas.pydata.org)\n",
    "    #Python for Data Science Cheat Sheet: Pandas Basics (www.DataCamp.com)\n",
    "    #Pandas PyData (https://pandas.pydata.org/pandas-docs/stable/reference/api/pandas.DataFrame.sort_values.html)"
   ]
  }
 ],
 "metadata": {
  "kernelspec": {
   "display_name": "Python 3",
   "language": "python",
   "name": "python3"
  },
  "language_info": {
   "codemirror_mode": {
    "name": "ipython",
    "version": 3
   },
   "file_extension": ".py",
   "mimetype": "text/x-python",
   "name": "python",
   "nbconvert_exporter": "python",
   "pygments_lexer": "ipython3",
   "version": "3.7.3"
  }
 },
 "nbformat": 4,
 "nbformat_minor": 2
}
